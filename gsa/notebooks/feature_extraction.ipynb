{
 "cells": [
  {
   "cell_type": "code",
   "execution_count": null,
   "id": "308cf21f",
   "metadata": {
    "vscode": {
     "languageId": "plaintext"
    }
   },
   "outputs": [],
   "source": [
    "def extract_kmers(sequence, k=6):\n",
    "    return [sequence[i:i+k] for i in range(len(sequence)-k+1)]\n",
    "\n",
    "# Example:\n",
    "extract_kmers(\"ATGCGTACGTAG\", k=6)\n"
   ]
  }
 ],
 "metadata": {
  "language_info": {
   "name": "python"
  }
 },
 "nbformat": 4,
 "nbformat_minor": 5
}
