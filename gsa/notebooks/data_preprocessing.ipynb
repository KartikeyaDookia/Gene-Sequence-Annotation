{
 "cells": [
  {
   "cell_type": "code",
   "execution_count": null,
   "id": "6385941a",
   "metadata": {
    "vscode": {
     "languageId": "plaintext"
    }
   },
   "outputs": [],
   "source": [
    "from src.parser import parse_gff3\n",
    "\n",
    "annotations = list(parse_gff3(\"data/raw/gencode.v48.annotation.gff3.gz\"))\n",
    "df = pd.DataFrame(annotations)\n",
    "df.to_csv(\"data/processed/gencode_genes.csv\", index=False)\n"
   ]
  }
 ],
 "metadata": {
  "language_info": {
   "name": "python"
  }
 },
 "nbformat": 4,
 "nbformat_minor": 5
}
